{
 "cells": [
  {
   "cell_type": "code",
   "execution_count": 71,
   "id": "a533f92b-9059-4d11-a8b3-07e801658416",
   "metadata": {},
   "outputs": [
    {
     "name": "stdout",
     "output_type": "stream",
     "text": [
      "model_decision_tree 0.751937984496124\n",
      "best_forest_model_predict_test 0.8178294573643411\n",
      "model_logistic_regression: 0.6705426356589147\n"
     ]
    },
    {
     "data": {
      "text/plain": [
       "\"\\ndummy_clf = DummyClassifier(strategy='uniform')\\ndummy_clf.fit(features_train, target_train)\\n\\ndummy_valid = dummy_clf.score(features_valid, target_valid)\\ndummy_test = dummy_clf.score(features_test, target_test)\\n\\nprint(f'Результат случайной модели на тестовой выборке: {dummy_test}')\\n\""
      ]
     },
     "execution_count": 71,
     "metadata": {},
     "output_type": "execute_result"
    }
   ],
   "source": [
    "import pandas as pd\n",
    "from sklearn.tree import DecisionTreeClassifier\n",
    "from sklearn.ensemble import RandomForestClassifier\n",
    "from sklearn.linear_model import LogisticRegression\n",
    "from sklearn.model_selection import train_test_split\n",
    "from sklearn.metrics import accuracy_score\n",
    "\n",
    "df = pd.read_csv('D:/users_behavior.csv')\n",
    "#display(df.head(50))\n",
    "\n",
    "features = df.drop(['is_ultra'], axis=1)\n",
    "target = df['is_ultra']\n",
    "\n",
    "# соотношение выборок: 3:1:1\n",
    "features_train, features_rem, target_train, target_rem = train_test_split(features, target, train_size=0.6)\n",
    "features_valid, features_test, target_valid, target_test = train_test_split(features_rem, target_rem, test_size=0.2)\n",
    "\n",
    "# 1 тест: дерево решений\n",
    "for depth in range(1, 11):\n",
    "    model_decision_tree = DecisionTreeClassifier(random_state=42, max_depth=depth)\n",
    "    model_decision_tree.fit(features_train, target_train)\n",
    "    decision_tree_predict = model_decision_tree.predict(features_valid)\n",
    "    \n",
    "decision_tree_predict_test = model_decision_tree.predict(features_test)\n",
    "print('model_decision_tree', accuracy_score(target_test, decision_tree_predict_test))\n",
    "\n",
    "\n",
    "# 2 тест: случайный лес\n",
    "best_model = None\n",
    "best_random_forest_score = 0\n",
    "best_est = 0\n",
    "best_depth = 0\n",
    "for est in range(10, 51, 10):\n",
    "    for depth in range (1, 11):\n",
    "        model_random_forest = RandomForestClassifier(random_state=12345, n_estimators=est, max_depth=depth)\n",
    "        model_random_forest.fit(features_train, target_train)\n",
    "        random_forest_score = model_random_forest.score(features_valid, target_valid)\n",
    "        if random_forest_score > best_random_forest_score:\n",
    "            best_model = model_random_forest\n",
    "            best_random_forest_score = random_forest_score\n",
    "            best_est = est\n",
    "            best_depth = depth\n",
    "            \n",
    "best_forest_model_predict_test = best_model.predict(features_test)\n",
    "print('best_forest_model_predict_test', accuracy_score(target_test, best_forest_model_predict_test))\n",
    "\n",
    "\n",
    "# 3 тест: логистическая регрессия\n",
    "model_logistic_regression = LogisticRegression(random_state=42, solver='lbfgs', max_iter=100) \n",
    "model_logistic_regression.fit(features_train, target_train)\n",
    "answer = model_logistic_regression.predict(features_valid)\n",
    "score = model_logistic_regression.score(features_valid, target_valid)\n",
    "#print('valid_score:', score)\n",
    "\n",
    "print('model_logistic_regression:', model_logistic_regression.score(features_test, target_test))\n",
    "\n",
    "# проверка на вменяемость\n",
    "'''\n",
    "dummy_clf = DummyClassifier(strategy='uniform')\n",
    "dummy_clf.fit(features_train, target_train)\n",
    "\n",
    "dummy_valid = dummy_clf.score(features_valid, target_valid)\n",
    "dummy_test = dummy_clf.score(features_test, target_test)\n",
    "\n",
    "print(f'Результат случайной модели на тестовой выборке: {dummy_test}')\n",
    "'''"
   ]
  },
  {
   "cell_type": "code",
   "execution_count": null,
   "id": "65498574-2485-455a-be4b-42609477f7e4",
   "metadata": {},
   "outputs": [],
   "source": []
  },
  {
   "cell_type": "code",
   "execution_count": null,
   "id": "a94dea3a-0341-436a-85ea-b5cde04a623d",
   "metadata": {},
   "outputs": [],
   "source": []
  }
 ],
 "metadata": {
  "kernelspec": {
   "display_name": "Python 3 (ipykernel)",
   "language": "python",
   "name": "python3"
  },
  "language_info": {
   "codemirror_mode": {
    "name": "ipython",
    "version": 3
   },
   "file_extension": ".py",
   "mimetype": "text/x-python",
   "name": "python",
   "nbconvert_exporter": "python",
   "pygments_lexer": "ipython3",
   "version": "3.9.13"
  }
 },
 "nbformat": 4,
 "nbformat_minor": 5
}
